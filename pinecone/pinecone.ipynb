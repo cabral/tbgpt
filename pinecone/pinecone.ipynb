{
 "cells": [
  {
   "cell_type": "code",
   "execution_count": 4,
   "id": "7d4aad3c-6082-4783-a4e9-1e7e37ddae07",
   "metadata": {},
   "outputs": [],
   "source": [
    "from langchain.document_loaders import UnstructuredPDFLoader, OnlinePDFLoader, PyPDFLoader"
   ]
  },
  {
   "cell_type": "code",
   "execution_count": 5,
   "id": "bb2bc9c6-53a7-4de3-bbd4-e68246726272",
   "metadata": {},
   "outputs": [],
   "source": [
    "from langchain.text_splitter import RecursiveCharacterTextSplitter"
   ]
  },
  {
   "cell_type": "code",
   "execution_count": 6,
   "id": "faa90fcd-8812-4ed9-aa10-f8ddaf5da3ed",
   "metadata": {},
   "outputs": [],
   "source": [
    "import os\n",
    "from dotenv import load_dotenv"
   ]
  },
  {
   "cell_type": "code",
   "execution_count": 15,
   "id": "18772df8-9216-4ea8-a52f-dc3dadd687a1",
   "metadata": {},
   "outputs": [],
   "source": [
    "from langchain.vectorstores import Pinecone"
   ]
  },
  {
   "cell_type": "code",
   "execution_count": 16,
   "id": "10eb2e1c-5372-4f20-a84a-0202113b31de",
   "metadata": {},
   "outputs": [],
   "source": [
    "from langchain.embeddings.openai import OpenAIEmbeddings"
   ]
  },
  {
   "cell_type": "code",
   "execution_count": 17,
   "id": "1e2270f9-fa86-4bf0-9d83-8919ed9a13ad",
   "metadata": {},
   "outputs": [
    {
     "name": "stderr",
     "output_type": "stream",
     "text": [
      "/home/cabral/tbot/__pypackages__/3.11/lib/pinecone/index.py:4: TqdmExperimentalWarning: Using `tqdm.autonotebook.tqdm` in notebook mode. Use `tqdm.tqdm` instead to force console mode (e.g. in jupyter console)\n",
      "  from tqdm.autonotebook import tqdm\n"
     ]
    }
   ],
   "source": [
    "import pinecone"
   ]
  },
  {
   "cell_type": "code",
   "execution_count": 23,
   "id": "f6fef0c2-56d1-4fb1-a11a-af6f75bc6540",
   "metadata": {},
   "outputs": [
    {
     "data": {
      "text/plain": [
       "True"
      ]
     },
     "execution_count": 23,
     "metadata": {},
     "output_type": "execute_result"
    }
   ],
   "source": [
    "load_dotenv()"
   ]
  },
  {
   "cell_type": "code",
   "execution_count": 8,
   "id": "afd41cb0-e3d4-43ac-a048-91589f92e042",
   "metadata": {},
   "outputs": [],
   "source": [
    "loader = PyPDFLoader(\"../hansard/pdfs/Commons-2023-07-20.p.pdf\")"
   ]
  },
  {
   "cell_type": "code",
   "execution_count": 10,
   "id": "416a35ad-98a9-4f7f-8e7f-0c8eea50cc7a",
   "metadata": {},
   "outputs": [],
   "source": [
    "data = loader.load()"
   ]
  },
  {
   "cell_type": "code",
   "execution_count": 11,
   "id": "f52bebc7-c99d-4466-8f64-3f992576138e",
   "metadata": {},
   "outputs": [
    {
     "data": {
      "text/plain": [
       "list"
      ]
     },
     "execution_count": 11,
     "metadata": {},
     "output_type": "execute_result"
    }
   ],
   "source": [
    "type(data)"
   ]
  },
  {
   "cell_type": "code",
   "execution_count": 12,
   "id": "fcaff460-f08d-498e-8660-9d48c0952cac",
   "metadata": {},
   "outputs": [
    {
     "data": {
      "text/plain": [
       "Document(page_content='Thursday Volume 736\\n20 July 2023 No. 194\\nHOUSE OF COMMONS\\nOFFICIAL REPORT\\nPARLIAMENTARY\\nDEBATES\\n(HANSARD)\\nThursday 20 July 2023\\n', metadata={'source': '../hansard/pdfs/Commons-2023-07-20.p.pdf', 'page': 0})"
      ]
     },
     "execution_count": 12,
     "metadata": {},
     "output_type": "execute_result"
    }
   ],
   "source": [
    "data[0]"
   ]
  },
  {
   "cell_type": "code",
   "execution_count": 13,
   "id": "2bb22b7a-17ba-47b0-98a3-2a599a95cef7",
   "metadata": {},
   "outputs": [],
   "source": [
    "text_splitter = RecursiveCharacterTextSplitter(chunk_size=1000, chunk_overlap=200)"
   ]
  },
  {
   "cell_type": "code",
   "execution_count": 14,
   "id": "95ca1e3d-0f1b-419a-a7fa-9c388f04aa92",
   "metadata": {},
   "outputs": [],
   "source": [
    "texts = text_splitter.split_documents(data)"
   ]
  },
  {
   "cell_type": "code",
   "execution_count": 18,
   "id": "ddb3d03e-83fb-4792-94f6-d59c0e43f57e",
   "metadata": {},
   "outputs": [],
   "source": [
    "OPENAI_API_KEY = os.getenv('OPENAI_API_KEY')"
   ]
  },
  {
   "cell_type": "code",
   "execution_count": 20,
   "id": "d8164960-5fa2-4e2d-a5c3-33b2d6f44ffe",
   "metadata": {},
   "outputs": [],
   "source": [
    "embeddings = OpenAIEmbeddings(openai_api_key=OPENAI_API_KEY)"
   ]
  },
  {
   "cell_type": "code",
   "execution_count": 24,
   "id": "a0302948-b973-43b1-a943-a970c893f63a",
   "metadata": {},
   "outputs": [],
   "source": [
    "PINECONE_API_KEY = os.getenv('PINECONE_API_KEY')\n",
    "PINECONE_API_ENV = os.getenv('PINECONE_API_ENV') \n",
    "# initialize pinecone\n",
    "pinecone.init(\n",
    "    api_key=PINECONE_API_KEY,  \n",
    "    environment=PINECONE_API_ENV  \n",
    ")\n",
    "index_name = \"tbot-alpha\" # put in the name of your pinecone index here\n",
    "\n",
    "docsearch = Pinecone.from_texts([t.page_content for t in texts], embeddings, index_name=index_name)"
   ]
  },
  {
   "cell_type": "markdown",
   "id": "c0a6d551-6c32-4c08-8121-40d373a2741b",
   "metadata": {},
   "source": [
    "### Resources\n",
    "\n",
    "- https://github.com/MuhammadMoinFaisal/LargeLanguageModelsProjects/blob/main/Chat_with_Multiple_PDF_llama2_Pinecone/Chat_with_Multiple_PDFs_Llama_2.ipynb\n",
    "\n",
    "JS version\n",
    "\n",
    "- https://github.com/mayooear/gpt4-pdf-chatbot-langchain/tree/feat/vectordbqa"
   ]
  }
 ],
 "metadata": {
  "kernelspec": {
   "display_name": "Python 3 (ipykernel)",
   "language": "python",
   "name": "python3"
  },
  "language_info": {
   "codemirror_mode": {
    "name": "ipython",
    "version": 3
   },
   "file_extension": ".py",
   "mimetype": "text/x-python",
   "name": "python",
   "nbconvert_exporter": "python",
   "pygments_lexer": "ipython3",
   "version": "3.11.5"
  }
 },
 "nbformat": 4,
 "nbformat_minor": 5
}
